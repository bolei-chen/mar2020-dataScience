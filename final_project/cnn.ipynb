{
 "cells": [
  {
   "cell_type": "markdown",
   "metadata": {},
   "source": [
    "## Convolutional Neural Network"
   ]
  },
  {
   "cell_type": "code",
   "execution_count": 2,
   "metadata": {},
   "outputs": [],
   "source": [
    "import tensorflow as tf\n",
    "import cv2\n",
    "import numpy as np \n",
    "from sklearn import preprocessing\n",
    "from tensorflow.keras.models import Sequential\n",
    "from tensorflow.keras.callbacks import TensorBoard\n",
    "from tensorflow.keras.layers import Dense, Dropout, Activation, Flatten, Conv2D, MaxPool2D\n",
    "import pickle\n",
    "import time\n",
    "%reload_ext tensorboard"
   ]
  },
  {
   "cell_type": "markdown",
   "metadata": {},
   "source": [
    "### load the data"
   ]
  },
  {
   "cell_type": "code",
   "execution_count": 22,
   "metadata": {
    "tags": [
     "outputPrepend"
    ]
   },
   "outputs": [],
   "source": [
    "X = pickle.load(\n",
    "    open(\n",
    "    r\"C:\\onedrive-brye\\OneDrive - Pro\\_\\coding\\_projects\\3.28-dataScience\\final_project\\X.pickle\", \"rb\"\n",
    "    ))\n",
    "y = pickle.load(\n",
    "    open(r\"C:\\onedrive-brye\\OneDrive - Pro\\_\\coding\\_projects\\3.28-dataScience\\final_project\\y.pickle\", \"rb\"\n",
    "    ))\n",
    "\n",
    "# normalization\n",
    "X_min = X.min(axis=(1, 2), keepdims=True)\n",
    "X_max = X.max(axis=(1, 2), keepdims=True)\n",
    "\n",
    "X = (X - X_min) / (X_max - X_min)"
   ]
  },
  {
   "cell_type": "markdown",
   "metadata": {},
   "source": [
    "### construct the model"
   ]
  },
  {
   "cell_type": "code",
   "execution_count": 23,
   "metadata": {},
   "outputs": [
    {
     "output_type": "stream",
     "name": "stdout",
     "text": "Train on 17462 samples, validate on 7484 samples\nEpoch 1/3\n17462/17462 [==============================] - 124s 7ms/sample - loss: 0.6688 - accuracy: 0.5717 - val_loss: 0.5809 - val_accuracy: 0.6978\nEpoch 2/3\n17462/17462 [==============================] - 126s 7ms/sample - loss: 0.5381 - accuracy: 0.7314 - val_loss: 0.5014 - val_accuracy: 0.7616\nEpoch 3/3\n17462/17462 [==============================] - 126s 7ms/sample - loss: 0.4355 - accuracy: 0.7968 - val_loss: 0.4143 - val_accuracy: 0.8112\n"
    }
   ],
   "source": [
    "def createModel(nodes, dense_layer, conv_layer):\n",
    "    model = Sequential()\n",
    "    for i in range(conv_layer):\n",
    "        model.add(Conv2D(nodes, (3, 3), input_shape=X.shape[1:], activation=\"relu\"))\n",
    "        model.add(MaxPool2D(pool_size=(2, 2)))\n",
    "\n",
    "    model.add(Flatten())\n",
    "\n",
    "    for i in range(dense_layer):\n",
    "        model.add(Dense(nodes, activation=\"relu\"))\n",
    "        \n",
    "    model.add(Dense(1, activation=\"sigmoid\"))\n",
    "    return model\n",
    "\n",
    "nodes = [64]\n",
    "dense_layers = [2]\n",
    "conv_layers = [3]\n",
    "for dense_layer in dense_layers:\n",
    "    for conv_layer in conv_layers:\n",
    "        for node in nodes:\n",
    "\n",
    "            name = \"{}-conv-{}-nodes-{}-dense-{}\".format(conv_layer, node, dense_layer, int(time.time()))\n",
    "\n",
    "            cnn = createModel(node, dense_layer, conv_layer)\n",
    "\n",
    "            log_dir = r\"C:\\Users\\Icey\\Documents\\_\\coding\\_projects\\\\3.28-dataScience\\\\final_project\\logs\\\\fit\\\\\" + name\n",
    "            tensorboard = TensorBoard(log_dir=log_dir)\n",
    "\n",
    "            cnn.compile(loss=\"binary_crossentropy\",\n",
    "                            optimizer=\"adam\",\n",
    "                            metrics=[\"accuracy\"])\n",
    "\n",
    "            cnn.fit(X, y, batch_size=32, epochs=3, validation_split=0.3, callbacks=[tensorboard])\n"
   ]
  },
  {
   "cell_type": "code",
   "execution_count": 24,
   "metadata": {},
   "outputs": [
    {
     "output_type": "stream",
     "name": "stdout",
     "text": "WARNING:tensorflow:From C:\\Users\\Icey\\Documents\\_\\coding\\python\\anaconda3\\envs\\datascience\\lib\\site-packages\\tensorflow_core\\python\\ops\\resource_variable_ops.py:1786: calling BaseResourceVariable.__init__ (from tensorflow.python.ops.resource_variable_ops) with constraint is deprecated and will be removed in a future version.\nInstructions for updating:\nIf using Keras pass *_constraint arguments to layers.\nINFO:tensorflow:Assets written to: 3-conv-64-nodes-2-dense-1589461361\\assets\n"
    }
   ],
   "source": [
    "cnn.save(\"3-conv-64-nodes-2-dense-1589461361\")"
   ]
  },
  {
   "cell_type": "code",
   "execution_count": 4,
   "metadata": {},
   "outputs": [
    {
     "output_type": "stream",
     "name": "stdout",
     "text": "WARNING:tensorflow:Inconsistent references when loading the checkpoint into this object graph. Either the Trackable object references in the Python program have changed in an incompatible way, or the checkpoint was generated in an incompatible program.\n\nTwo checkpoint references resolved to different objects (<tensorflow.python.keras.layers.convolutional.Conv2D object at 0x000001D9B4092B38> and <tensorflow.python.keras.layers.pooling.MaxPooling2D object at 0x000001D9B40964E0>).\nWARNING:tensorflow:Inconsistent references when loading the checkpoint into this object graph. Either the Trackable object references in the Python program have changed in an incompatible way, or the checkpoint was generated in an incompatible program.\n\nTwo checkpoint references resolved to different objects (<tensorflow.python.keras.layers.convolutional.Conv2D object at 0x000001D9B4096A90> and <tensorflow.python.keras.layers.pooling.MaxPooling2D object at 0x000001D9B409E240>).\nWARNING:tensorflow:Inconsistent references when loading the checkpoint into this object graph. Either the Trackable object references in the Python program have changed in an incompatible way, or the checkpoint was generated in an incompatible program.\n\nTwo checkpoint references resolved to different objects (<tensorflow.python.keras.layers.convolutional.Conv2D object at 0x000001D9B409E7F0> and <tensorflow.python.keras.layers.pooling.MaxPooling2D object at 0x000001D9B409EF60>).\nWARNING:tensorflow:Inconsistent references when loading the checkpoint into this object graph. Either the Trackable object references in the Python program have changed in an incompatible way, or the checkpoint was generated in an incompatible program.\n\nTwo checkpoint references resolved to different objects (<tensorflow.python.keras.layers.core.Dense object at 0x000001D9B40A67F0> and <tensorflow.python.keras.layers.core.Dense object at 0x000001D9B40A6EB8>).\nWARNING:tensorflow:Inconsistent references when loading the checkpoint into this object graph. Either the Trackable object references in the Python program have changed in an incompatible way, or the checkpoint was generated in an incompatible program.\n\nTwo checkpoint references resolved to different objects (<tensorflow.python.keras.layers.core.Dense object at 0x000001D9B40A6EB8> and <tensorflow.python.keras.layers.core.Dense object at 0x000001D9B40AB5C0>).\nWARNING:tensorflow:Inconsistent references when loading the checkpoint into this object graph. Either the Trackable object references in the Python program have changed in an incompatible way, or the checkpoint was generated in an incompatible program.\n\nTwo checkpoint references resolved to different objects (<tensorflow.python.keras.layers.convolutional.Conv2D object at 0x000001D9B4096A90> and <tensorflow.python.keras.layers.pooling.MaxPooling2D object at 0x000001D9B40964E0>).\nWARNING:tensorflow:Inconsistent references when loading the checkpoint into this object graph. Either the Trackable object references in the Python program have changed in an incompatible way, or the checkpoint was generated in an incompatible program.\n\nTwo checkpoint references resolved to different objects (<tensorflow.python.keras.layers.convolutional.Conv2D object at 0x000001D9B409E7F0> and <tensorflow.python.keras.layers.pooling.MaxPooling2D object at 0x000001D9B409E240>).\nWARNING:tensorflow:Inconsistent references when loading the checkpoint into this object graph. Either the Trackable object references in the Python program have changed in an incompatible way, or the checkpoint was generated in an incompatible program.\n\nTwo checkpoint references resolved to different objects (<tensorflow.python.keras.layers.core.Flatten object at 0x000001D9B40A6358> and <tensorflow.python.keras.layers.pooling.MaxPooling2D object at 0x000001D9B409EF60>).\nWARNING:tensorflow:Inconsistent references when loading the checkpoint into this object graph. Either the Trackable object references in the Python program have changed in an incompatible way, or the checkpoint was generated in an incompatible program.\n\nTwo checkpoint references resolved to different objects (<tensorflow.python.keras.layers.core.Dense object at 0x000001D9B40A67F0> and <tensorflow.python.keras.layers.core.Flatten object at 0x000001D9B40A6358>).\nDog\n"
    }
   ],
   "source": [
    "def prepare(path):\n",
    "    image_size = 70\n",
    "    img_array = cv2.imread(path, cv2.IMREAD_GRAYSCALE)  \n",
    "    new_array = cv2.resize(img_array, (image_size, image_size))  \n",
    "    return np.array(new_array.reshape(-1, image_size, image_size, 1))\n",
    "model = tf.keras.models.load_model(\"3-conv-64-nodes-2-dense-1589461361\")\n",
    "\n",
    "path = r\"C:\\Users\\Icey\\Desktop\\dog\"\n",
    "categories = [\"Dog\", \"Cat\"]\n",
    "prediction = model.predict([prepare(path)])\n",
    "result = categories[int(prediction[0][0])]\n",
    "print(result)"
   ]
  },
  {
   "cell_type": "code",
   "execution_count": null,
   "metadata": {},
   "outputs": [],
   "source": []
  }
 ],
 "metadata": {
  "language_info": {
   "codemirror_mode": {
    "name": "ipython",
    "version": 3
   },
   "file_extension": ".py",
   "mimetype": "text/x-python",
   "name": "python",
   "nbconvert_exporter": "python",
   "pygments_lexer": "ipython3",
   "version": "3.7.7-final"
  },
  "orig_nbformat": 2,
  "kernelspec": {
   "name": "python3",
   "display_name": "Python 3"
  }
 },
 "nbformat": 4,
 "nbformat_minor": 2
}